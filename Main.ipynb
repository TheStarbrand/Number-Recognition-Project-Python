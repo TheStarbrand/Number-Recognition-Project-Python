{
 "cells": [
  {
   "cell_type": "code",
   "execution_count": 49,
   "id": "24a10fe3-8e86-4489-96c6-2a6333ed5c2c",
   "metadata": {},
   "outputs": [],
   "source": [
    "from torchvision import datasets\n",
    "from torchvision.transforms import ToTensor"
   ]
  },
  {
   "cell_type": "code",
   "execution_count": 50,
   "id": "97318f76-e773-43dd-a48a-dbb2651d30ea",
   "metadata": {},
   "outputs": [],
   "source": [
    "train_data = datasets.MNIST(\n",
    "    root = 'data',\n",
    "    train = True,\n",
    "    transform = ToTensor(),\n",
    "    download = True\n",
    ")\n",
    "test_data = datasets.MNIST(\n",
    "    root = 'data',\n",
    "    train = False,\n",
    "    transform = ToTensor(),\n",
    "    download = True\n",
    ")"
   ]
  },
  {
   "cell_type": "code",
   "execution_count": 51,
   "id": "d95ef7ab-0e06-4a7c-9e1b-fb4874ed4543",
   "metadata": {},
   "outputs": [
    {
     "data": {
      "text/plain": [
       "Dataset MNIST\n",
       "    Number of datapoints: 60000\n",
       "    Root location: data\n",
       "    Split: Train\n",
       "    StandardTransform\n",
       "Transform: ToTensor()"
      ]
     },
     "execution_count": 51,
     "metadata": {},
     "output_type": "execute_result"
    }
   ],
   "source": [
    "train_data\n"
   ]
  },
  {
   "cell_type": "code",
   "execution_count": 52,
   "id": "f2654979-d5c5-4c4f-8319-e4b5d7afed69",
   "metadata": {},
   "outputs": [
    {
     "data": {
      "text/plain": [
       "Dataset MNIST\n",
       "    Number of datapoints: 10000\n",
       "    Root location: data\n",
       "    Split: Test\n",
       "    StandardTransform\n",
       "Transform: ToTensor()"
      ]
     },
     "execution_count": 52,
     "metadata": {},
     "output_type": "execute_result"
    }
   ],
   "source": [
    "test_data"
   ]
  },
  {
   "cell_type": "code",
   "execution_count": 40,
   "id": "70cdb982-78f7-4bac-a6ac-8a3530a939fc",
   "metadata": {},
   "outputs": [
    {
     "data": {
      "text/plain": [
       "<function Tensor.size>"
      ]
     },
     "execution_count": 40,
     "metadata": {},
     "output_type": "execute_result"
    }
   ],
   "source": [
    "train_data.data.size\n"
   ]
  },
  {
   "cell_type": "code",
   "execution_count": 53,
   "id": "58de2d14-50e6-4d6a-b48b-bdeb6f071615",
   "metadata": {},
   "outputs": [
    {
     "data": {
      "text/plain": [
       "torch.Size([60000])"
      ]
     },
     "execution_count": 53,
     "metadata": {},
     "output_type": "execute_result"
    }
   ],
   "source": [
    "train_data.targets.size()"
   ]
  },
  {
   "cell_type": "code",
   "execution_count": 42,
   "id": "6fa406b4",
   "metadata": {},
   "outputs": [
    {
     "data": {
      "text/plain": [
       "torch.Size([60000])"
      ]
     },
     "execution_count": 42,
     "metadata": {},
     "output_type": "execute_result"
    }
   ],
   "source": [
    "train_data.targets.size()"
   ]
  },
  {
   "cell_type": "code",
   "execution_count": 54,
   "id": "1b5d5533",
   "metadata": {},
   "outputs": [],
   "source": [
    "from torch.utils.data import DataLoader \n",
    "loaders = {\n",
    "    \n",
    "    'train': DataLoader(train_data, batch_size=100, shuffle=True, num_workers=1),\n",
    "    'test': DataLoader(test_data, batch_size=100, shuffle=True, num_workers=1)\n",
    "}"
   ]
  },
  {
   "cell_type": "code",
   "execution_count": 86,
   "id": "85d40cc3",
   "metadata": {},
   "outputs": [],
   "source": [
    "import torch.nn as nn\n",
    "import torch.nn.functional as F\n",
    "import torch.optim as optim #optimizer\n",
    "\n",
    "class CNN(nn.Module):\n",
    "    def __init__(self):\n",
    "        super(CNN, self).__init__()\n",
    "\n",
    "        self.conv1 = nn.Conv2d(1, 10, kernel_size = 5)\n",
    "        self.conv2 = nn.Conv2d(10, 20, kernel_size = 5)\n",
    "        self.conv2_drop = nn.Dropout2d()\n",
    "        self.fc1 = nn.Linear(320, 50)\n",
    "        self.fc2 = nn.Linear(50, 10) # 10 output neurons, so we can make use of a softmax function easily\n",
    "\n",
    "    def forward(self, x):\n",
    "        x = F.relu(F.max_pool2d(self.conv1(x), 2))\n",
    "        x = F.relu(F.max_pool2d(self.conv2_drop(self.conv2(x)), 2))\n",
    "        x = x.view(-1, 320)\n",
    "        x = F.relu(self.fc1(x))\n",
    "        x = F.dropout(x, training = self.training)\n",
    "        x = self.fc2(x)\n",
    "\n",
    "        return F.softmax(x)\n",
    "\n",
    "        \n",
    "\n"
   ]
  },
  {
   "cell_type": "code",
   "execution_count": 87,
   "id": "01260bc0",
   "metadata": {},
   "outputs": [],
   "source": [
    "import torch \n",
    "\n",
    "device = torch.device('cuda' if torch.cuda.is_available() else 'cpu')\n",
    "#-----------------------idk whats happening here, buggy section  -------------------------------\n",
    "model = CNN().to(device) \n",
    "#-----------------------------------------------------------------------------------------------\n",
    "optimizer = optim.Adam(model.parameters(), lr=0.001)\n",
    "loss_fn = nn.CrossEntropyLoss()\n",
    "\n",
    "def train (epoch):\n",
    "    model.train()\n",
    "    for batch_idx, (data, target) in enumerate(loaders['train']):\n",
    "        data, target = data.to(device), target.to(device)\n",
    "        optimizer.zero_grad()\n",
    "        output = model(data)\n",
    "        loss = loss_fn(output, target)\n",
    "        loss.backward()\n",
    "        optimizer.step()\n",
    "        if batch_idx % 20 == 0:\n",
    "            print(f'Train Epoch: {epoch} [{batch_idx * len(data)}/{len(loaders['train'].dataset)} ({100. * batch_idx /  len(loaders):.0f}%\\t{loss.item():.6}f')\n",
    "\n",
    "def test():\n",
    "    model.eval()\n",
    "\n",
    "    test_loss = 0\n",
    "    correct = 0\n",
    "\n",
    "    with torch.no_grad():\n",
    "        for data, target in loaders['test']:\n",
    "            data, target = data.to(device), target.to(device)\n",
    "            output = model(data)\n",
    "            test_loss += loss_fn(output, target).item()\n",
    "            pred = output.argmax(dim = 1, keepdim = True)\n",
    "            correct += pred.eq(target.view_as(pred)).sum().item()\n",
    "\n",
    "    test_loss /= len(loaders['test'].dataset)\n",
    "    print(f'\\nTest set: Average loss: {test_loss:.4f}, Accuracy: {correct}/{len(loaders[\"test\"].dataset)} ({100. * correct / len(loaders[\"test\"].dataset):.0f}%)\\n')\n",
    "\n",
    "\n",
    "\n",
    "    "
   ]
  },
  {
   "cell_type": "code",
   "execution_count": 88,
   "id": "d3eeea08",
   "metadata": {},
   "outputs": [
    {
     "name": "stderr",
     "output_type": "stream",
     "text": [
      "C:\\Users\\divin\\AppData\\Local\\Temp\\ipykernel_14912\\4195971806.py:23: UserWarning: Implicit dimension choice for softmax has been deprecated. Change the call to include dim=X as an argument.\n",
      "  return F.softmax(x)\n"
     ]
    },
    {
     "name": "stdout",
     "output_type": "stream",
     "text": [
      "Train Epoch: 1 [0/60000 (0%\t2.30314f\n",
      "Train Epoch: 1 [2000/60000 (1000%\t2.28357f\n",
      "Train Epoch: 1 [4000/60000 (2000%\t2.14566f\n",
      "Train Epoch: 1 [6000/60000 (3000%\t2.08409f\n",
      "Train Epoch: 1 [8000/60000 (4000%\t1.9081f\n",
      "Train Epoch: 1 [10000/60000 (5000%\t1.96639f\n",
      "Train Epoch: 1 [12000/60000 (6000%\t1.86053f\n",
      "Train Epoch: 1 [14000/60000 (7000%\t1.80397f\n",
      "Train Epoch: 1 [16000/60000 (8000%\t1.79513f\n",
      "Train Epoch: 1 [18000/60000 (9000%\t1.76528f\n",
      "Train Epoch: 1 [20000/60000 (10000%\t1.72712f\n",
      "Train Epoch: 1 [22000/60000 (11000%\t1.73827f\n",
      "Train Epoch: 1 [24000/60000 (12000%\t1.71946f\n",
      "Train Epoch: 1 [26000/60000 (13000%\t1.76476f\n",
      "Train Epoch: 1 [28000/60000 (14000%\t1.72471f\n",
      "Train Epoch: 1 [30000/60000 (15000%\t1.63177f\n",
      "Train Epoch: 1 [32000/60000 (16000%\t1.70709f\n",
      "Train Epoch: 1 [34000/60000 (17000%\t1.67336f\n",
      "Train Epoch: 1 [36000/60000 (18000%\t1.63002f\n",
      "Train Epoch: 1 [38000/60000 (19000%\t1.70772f\n",
      "Train Epoch: 1 [40000/60000 (20000%\t1.68955f\n",
      "Train Epoch: 1 [42000/60000 (21000%\t1.67065f\n",
      "Train Epoch: 1 [44000/60000 (22000%\t1.67086f\n",
      "Train Epoch: 1 [46000/60000 (23000%\t1.70001f\n",
      "Train Epoch: 1 [48000/60000 (24000%\t1.7293f\n",
      "Train Epoch: 1 [50000/60000 (25000%\t1.7409f\n",
      "Train Epoch: 1 [52000/60000 (26000%\t1.60939f\n",
      "Train Epoch: 1 [54000/60000 (27000%\t1.69784f\n",
      "Train Epoch: 1 [56000/60000 (28000%\t1.72339f\n",
      "Train Epoch: 1 [58000/60000 (29000%\t1.62713f\n"
     ]
    }
   ],
   "source": [
    "for epoch in range (1, 11):\n",
    "    train(epoch)\n",
    "    test()"
   ]
  },
  {
   "cell_type": "code",
   "execution_count": null,
   "id": "4204d8e3",
   "metadata": {},
   "outputs": [],
   "source": []
  }
 ],
 "metadata": {
  "kernelspec": {
   "display_name": "Python 3 (ipykernel)",
   "language": "python",
   "name": "python3"
  },
  "language_info": {
   "codemirror_mode": {
    "name": "ipython",
    "version": 3
   },
   "file_extension": ".py",
   "mimetype": "text/x-python",
   "name": "python",
   "nbconvert_exporter": "python",
   "pygments_lexer": "ipython3",
   "version": "3.12.3"
  }
 },
 "nbformat": 4,
 "nbformat_minor": 5
}
